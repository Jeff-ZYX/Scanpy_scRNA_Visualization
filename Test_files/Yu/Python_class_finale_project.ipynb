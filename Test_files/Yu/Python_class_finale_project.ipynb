{
  "cells": [
    {
      "cell_type": "markdown",
      "source": [
        "## Preprocessing"
      ],
      "metadata": {
        "id": "neIb3PurcInM"
      }
    },
    {
      "cell_type": "markdown",
      "metadata": {
        "id": "Z1_5oonRt__-"
      },
      "source": [
        "Check python version since Scanpy is only compatable with python 3"
      ]
    },
    {
      "cell_type": "code",
      "execution_count": null,
      "metadata": {
        "id": "XGfGLCO9uBy0"
      },
      "outputs": [],
      "source": [
        "from platform import python_version\n",
        "\n",
        "print(python_version())"
      ]
    },
    {
      "cell_type": "markdown",
      "metadata": {
        "id": "7Fd1o5Sxa-62"
      },
      "source": [
        "Install Scanpy"
      ]
    },
    {
      "cell_type": "code",
      "execution_count": null,
      "metadata": {
        "id": "3FPgaka6a8o4"
      },
      "outputs": [],
      "source": [
        "!pip install scanpy"
      ]
    },
    {
      "cell_type": "markdown",
      "metadata": {
        "id": "jnTg9wFAbg0S"
      },
      "source": [
        "Import necessary packages"
      ]
    },
    {
      "cell_type": "code",
      "execution_count": null,
      "metadata": {
        "id": "Ry1IjI4ubgCT"
      },
      "outputs": [],
      "source": [
        "import numpy as np\n",
        "import pandas as pd\n",
        "import scanpy as sc"
      ]
    },
    {
      "cell_type": "markdown",
      "source": [
        "Set up some global settings in Scanpy"
      ],
      "metadata": {
        "id": "KuFLSrqeR910"
      }
    },
    {
      "cell_type": "code",
      "execution_count": null,
      "metadata": {
        "id": "W7noqp7foApK"
      },
      "outputs": [],
      "source": [
        "sc.settings.verbosity = 3\n",
        "sc.logging.print_header()\n",
        "sc.settings.set_figure_params(dpi=80, facecolor='white')"
      ]
    },
    {
      "cell_type": "markdown",
      "source": [
        "Mount Google Drive"
      ],
      "metadata": {
        "id": "RvyzpsjXsp_Q"
      }
    },
    {
      "cell_type": "code",
      "source": [
        "from google.colab import drive\n",
        "drive.mount('/content/drive')"
      ],
      "metadata": {
        "id": "08SEcHVdTUS5"
      },
      "execution_count": null,
      "outputs": []
    },
    {
      "cell_type": "markdown",
      "metadata": {
        "id": "rXtIdANITXuZ"
      },
      "source": [
        "Make an AnnData object using the count matrix with Scanpy"
      ]
    },
    {
      "cell_type": "code",
      "execution_count": null,
      "metadata": {
        "id": "fdfvwKwpS-m7"
      },
      "outputs": [],
      "source": [
        "adata = sc.read('/content/drive/MyDrive/Python final project/Extracted/Copy of GSM3972018/Copy of GSM3972018_159_matrix.mtx', var_names='gene_symbols', cache=True).T"
      ]
    },
    {
      "cell_type": "markdown",
      "source": [
        "Set variable names and observation names of the AnnData project as gene names and cell barcode names respectively"
      ],
      "metadata": {
        "id": "EhPD_2uXUobf"
      }
    },
    {
      "cell_type": "code",
      "execution_count": null,
      "metadata": {
        "id": "io-b5PCiVvOn"
      },
      "outputs": [],
      "source": [
        "adata.var_names = pd.read_csv('/content/drive/MyDrive/Python final project/Extracted/Copy of GSM3972018/Copy of GSM3972018_159_genes.tsv', header = None, sep ='\\t')[1]\n",
        "adata.obs_names = pd.read_csv('/content/drive/MyDrive/Python final project/Extracted/Copy of GSM3972018/Copy of GSM3972018_159_barcodes.tsv', header = None)[0]"
      ]
    },
    {
      "cell_type": "markdown",
      "source": [
        "Make the variable names of the AnnData unique and delete duplicates"
      ],
      "metadata": {
        "id": "2SDBUmnCXDpr"
      }
    },
    {
      "cell_type": "code",
      "execution_count": null,
      "metadata": {
        "id": "kHHNutxYTrWA"
      },
      "outputs": [],
      "source": [
        "adata.var_names_make_unique()"
      ]
    },
    {
      "cell_type": "markdown",
      "source": [
        "Call the AnnData object"
      ],
      "metadata": {
        "id": "c-wPiEG-XV_P"
      }
    },
    {
      "cell_type": "code",
      "execution_count": null,
      "metadata": {
        "id": "WkQqKWgpT4jQ"
      },
      "outputs": [],
      "source": [
        "adata"
      ]
    },
    {
      "cell_type": "markdown",
      "source": [
        "Plot the top 20 highly expressed genes"
      ],
      "metadata": {
        "id": "L-sSMB0YXhTl"
      }
    },
    {
      "cell_type": "code",
      "execution_count": null,
      "metadata": {
        "id": "dcRrJQTDWuwz"
      },
      "outputs": [],
      "source": [
        "sc.pl.highest_expr_genes(adata, n_top=20, )"
      ]
    },
    {
      "cell_type": "markdown",
      "source": [
        "Filter out cells that have less than 200 genes detected and genes that are detected in less than 3 cells"
      ],
      "metadata": {
        "id": "IJw25HvRYVP6"
      }
    },
    {
      "cell_type": "code",
      "execution_count": null,
      "metadata": {
        "id": "psoWtuVrX4yW"
      },
      "outputs": [],
      "source": [
        "sc.pp.filter_cells(adata, min_genes=200)\n",
        "sc.pp.filter_genes(adata, min_cells=3)"
      ]
    },
    {
      "cell_type": "markdown",
      "source": [
        "Annotate the group of mitochondrial genes as 'mt' and use it as control variable to calculate quality control metrics"
      ],
      "metadata": {
        "id": "2ioH-68CZDrT"
      }
    },
    {
      "cell_type": "code",
      "execution_count": null,
      "metadata": {
        "id": "7JviHJeXYD8h"
      },
      "outputs": [],
      "source": [
        "adata.var['mt'] = adata.var_names.str.startswith('MT-')  # annotate the group of mitochondrial genes as 'mt'\n",
        "sc.pp.calculate_qc_metrics(adata, qc_vars=['mt'], percent_top=None, log1p=False, inplace=True)"
      ]
    },
    {
      "cell_type": "markdown",
      "source": [
        "Violin plots showing the distribution of some of the quality control matrices\n",
        "*   the number of genes expressed in the count matrix\n",
        "*   the total counts per cell\n",
        "*   the percentage of counts in mitochondrial genes"
      ],
      "metadata": {
        "id": "87e3jmfibXN6"
      }
    },
    {
      "cell_type": "code",
      "execution_count": null,
      "metadata": {
        "id": "TClfiiSSYMhX"
      },
      "outputs": [],
      "source": [
        "sc.pl.violin(adata, ['n_genes_by_counts', 'total_counts', 'pct_counts_mt'],\n",
        "             jitter=0.4, multi_panel=True)"
      ]
    },
    {
      "cell_type": "markdown",
      "source": [
        "Violin plots of some of the quality control matrices\n",
        "\n",
        "*   the percentage of counts in mitochondrial genes by the total counts per cell\n",
        "*   the number of genes expressed in the count matrix by the total counts per cell\n"
      ],
      "metadata": {
        "id": "MMMlaVKdcLEP"
      }
    },
    {
      "cell_type": "code",
      "execution_count": null,
      "metadata": {
        "id": "GcDDk0XLYXRf"
      },
      "outputs": [],
      "source": [
        "sc.pl.scatter(adata, x='total_counts', y='pct_counts_mt')\n",
        "sc.pl.scatter(adata, x='total_counts', y='n_genes_by_counts')"
      ]
    },
    {
      "cell_type": "markdown",
      "metadata": {
        "id": "8bS8Omk3VUEz"
      },
      "source": [
        "Filter out cells that have more than 2500 total counts and 5% of counts in mitochondrial genes"
      ]
    },
    {
      "cell_type": "code",
      "execution_count": null,
      "metadata": {
        "id": "qWnZUqPkVaCO"
      },
      "outputs": [],
      "source": [
        "adata = adata[adata.obs.n_genes_by_counts < 2500, :]\n",
        "adata = adata[adata.obs.pct_counts_mt < 5, :]"
      ]
    },
    {
      "cell_type": "markdown",
      "metadata": {
        "id": "qrIfrp0fVlw-"
      },
      "source": [
        "Normalize the count matrix to 10,000 counts per cell, so that counts become comparable among cells."
      ]
    },
    {
      "cell_type": "code",
      "execution_count": null,
      "metadata": {
        "id": "8ywif_LmVsl1"
      },
      "outputs": [],
      "source": [
        "sc.pp.normalize_total(adata, target_sum=1e4)"
      ]
    },
    {
      "cell_type": "markdown",
      "metadata": {
        "id": "Ss6_SdaMV37N"
      },
      "source": [
        "Logarithmize the data"
      ]
    },
    {
      "cell_type": "code",
      "execution_count": null,
      "metadata": {
        "id": "vYJjZ5HiV61R"
      },
      "outputs": [],
      "source": [
        "sc.pp.log1p(adata)"
      ]
    },
    {
      "cell_type": "markdown",
      "metadata": {
        "id": "RbC-6WkHWJbH"
      },
      "source": [
        "Identify highly-variable genes with mean of gene expression distribution between 0.0125 - 3 and dispersion greater than 0.5"
      ]
    },
    {
      "cell_type": "code",
      "execution_count": null,
      "metadata": {
        "id": "Awo6Y-lWWOrt"
      },
      "outputs": [],
      "source": [
        "sc.pp.highly_variable_genes(adata, min_mean=0.0125, max_mean=3, min_disp=0.5)"
      ]
    },
    {
      "cell_type": "markdown",
      "source": [
        "Scatter plot of highly-variable genes"
      ],
      "metadata": {
        "id": "se0gkOw6gT93"
      }
    },
    {
      "cell_type": "code",
      "execution_count": null,
      "metadata": {
        "id": "uTKTcwHSWTuV"
      },
      "outputs": [],
      "source": [
        "sc.pl.highly_variable_genes(adata)"
      ]
    },
    {
      "cell_type": "markdown",
      "metadata": {
        "id": "Hn4CVKADW_QR"
      },
      "source": [
        "Set the .raw attribute of the AnnData object to the normalized and logarithmized raw gene expression for later use in differential testing and visualizations of gene expression"
      ]
    },
    {
      "cell_type": "code",
      "execution_count": null,
      "metadata": {
        "id": "kZchc0vQXNWy"
      },
      "outputs": [],
      "source": [
        "adata.raw = adata"
      ]
    },
    {
      "cell_type": "markdown",
      "metadata": {
        "id": "9aceQd0-XoGg"
      },
      "source": [
        "Actually do the filtering"
      ]
    },
    {
      "cell_type": "code",
      "execution_count": null,
      "metadata": {
        "id": "Ye4eb7pOXt69"
      },
      "outputs": [],
      "source": [
        "adata = adata[:, adata.var.highly_variable]"
      ]
    },
    {
      "cell_type": "markdown",
      "metadata": {
        "id": "pzGT9etQX1xg"
      },
      "source": [
        "Regress out effects of total counts per cell and the percentage of mitochondrial genes expressed"
      ]
    },
    {
      "cell_type": "code",
      "execution_count": null,
      "metadata": {
        "id": "oaN3xgS8X2-K"
      },
      "outputs": [],
      "source": [
        "sc.pp.regress_out(adata, ['total_counts', 'pct_counts_mt'])"
      ]
    },
    {
      "cell_type": "markdown",
      "metadata": {
        "id": "HmR21WKYYIzT"
      },
      "source": [
        "Scale each gene to unit variance and clip values exceeding standard deviation 10."
      ]
    },
    {
      "cell_type": "code",
      "execution_count": null,
      "metadata": {
        "id": "SjyLy2WxYMmR"
      },
      "outputs": [],
      "source": [
        "sc.pp.scale(adata, max_value=10)"
      ]
    },
    {
      "cell_type": "markdown",
      "metadata": {
        "id": "XCZpoQVrYTuF"
      },
      "source": [
        "## Principal component analysis"
      ]
    },
    {
      "cell_type": "markdown",
      "source": [
        "Perform PCA analysis on highly variable genes using the fault \"arpack\" as the singular value decomposition solver"
      ],
      "metadata": {
        "id": "lwU0goIto8uD"
      }
    },
    {
      "cell_type": "code",
      "execution_count": null,
      "metadata": {
        "id": "9Blb5hTYYlAv"
      },
      "outputs": [],
      "source": [
        "sc.tl.pca(adata, svd_solver='arpack')"
      ]
    },
    {
      "cell_type": "markdown",
      "metadata": {
        "id": "lZKjepB5YqFo"
      },
      "source": [
        "Plot PCA result using the first two PCs\n",
        "\n",
        "---\n",
        "\n"
      ]
    },
    {
      "cell_type": "code",
      "execution_count": null,
      "metadata": {
        "id": "pOZg-7RnYsZb"
      },
      "outputs": [],
      "source": [
        "sc.pl.pca(adata, color='CST3')"
      ]
    },
    {
      "cell_type": "markdown",
      "metadata": {
        "id": "ZWUBhNI4Y3zB"
      },
      "source": [
        "Plot showing contribution of single PCs to the total variance in the data which help to decide how many PCs to consider to compute the neighborhood relations of cells"
      ]
    },
    {
      "cell_type": "code",
      "execution_count": null,
      "metadata": {
        "id": "9Qwc8yZ5Y8I-"
      },
      "outputs": [],
      "source": [
        "sc.pl.pca_variance_ratio(adata, log=True)"
      ]
    },
    {
      "cell_type": "code",
      "execution_count": null,
      "metadata": {
        "id": "jPs8EWgWZkco"
      },
      "outputs": [],
      "source": [
        "adata"
      ]
    },
    {
      "cell_type": "markdown",
      "metadata": {
        "id": "V-s4JMAPegY6"
      },
      "source": [
        "## Computing the neighborhood graph"
      ]
    },
    {
      "cell_type": "code",
      "execution_count": null,
      "metadata": {
        "id": "paMF5fqVeplr"
      },
      "outputs": [],
      "source": [
        "sc.pp.neighbors(adata)"
      ]
    },
    {
      "cell_type": "markdown",
      "metadata": {
        "id": "k_DR5ewCe5WB"
      },
      "source": [
        "## Embedding the neighborhood graph"
      ]
    },
    {
      "cell_type": "code",
      "execution_count": null,
      "metadata": {
        "id": "UaejdLhAfLQj"
      },
      "outputs": [],
      "source": [
        "sc.tl.umap(adata)"
      ]
    },
    {
      "cell_type": "code",
      "execution_count": null,
      "metadata": {
        "id": "GSC-EyaBfQcz"
      },
      "outputs": [],
      "source": [
        "sc.pl.umap(adata, color='CST3')"
      ]
    },
    {
      "cell_type": "markdown",
      "metadata": {
        "id": "rZkvBDZIf2Sm"
      },
      "source": [
        "## Clustering the neighborhood graph"
      ]
    },
    {
      "cell_type": "markdown",
      "metadata": {
        "id": "rG3Kj-hmf7TA"
      },
      "source": [
        "Install leidenalg package"
      ]
    },
    {
      "cell_type": "code",
      "execution_count": null,
      "metadata": {
        "id": "sMlpm--1mO5q"
      },
      "outputs": [],
      "source": [
        "!pip install leidenalg"
      ]
    },
    {
      "cell_type": "markdown",
      "source": [
        "Perform Leiden clustering"
      ],
      "metadata": {
        "id": "B532-42sLE3y"
      }
    },
    {
      "cell_type": "code",
      "execution_count": null,
      "metadata": {
        "id": "dGSw6JTPf3iD"
      },
      "outputs": [],
      "source": [
        "sc.tl.leiden(adata)"
      ]
    },
    {
      "cell_type": "markdown",
      "metadata": {
        "id": "w57LOsFOmilF"
      },
      "source": [
        "Plot the clusters"
      ]
    },
    {
      "cell_type": "code",
      "execution_count": null,
      "metadata": {
        "id": "2Hi0bN-VmjLT"
      },
      "outputs": [],
      "source": [
        "sc.pl.umap(adata, color='leiden')"
      ]
    },
    {
      "cell_type": "markdown",
      "metadata": {
        "id": "mTYvV_fAmtKf"
      },
      "source": [
        "Save the result"
      ]
    },
    {
      "cell_type": "code",
      "execution_count": null,
      "metadata": {
        "id": "1Wdccsl_mtp5"
      },
      "outputs": [],
      "source": [
        "adata.write(Save)"
      ]
    },
    {
      "cell_type": "markdown",
      "metadata": {
        "id": "VdwehM-xtYFd"
      },
      "source": [
        "## Investigating marker gene expression"
      ]
    },
    {
      "cell_type": "markdown",
      "source": [
        "Violin plot of expression of 3 marker genes across clusters"
      ],
      "metadata": {
        "id": "zVpF-W8BfAPk"
      }
    },
    {
      "cell_type": "code",
      "source": [
        "sc.pl.violin(adata, ['ACE2', 'FABP6', 'ANPEP'], groupby='leiden')"
      ],
      "metadata": {
        "id": "7avs8COUe_Gm"
      },
      "execution_count": null,
      "outputs": []
    },
    {
      "cell_type": "markdown",
      "source": [
        "Dot plot of expression of 3 marker genes across clusters"
      ],
      "metadata": {
        "id": "4v3H535vf-v8"
      }
    },
    {
      "cell_type": "code",
      "source": [
        "sc.pl.dotplot(adata, ['ACE2', 'FABP6', 'ANPEP'], groupby='leiden')"
      ],
      "metadata": {
        "id": "pPXZdfAEgAGC"
      },
      "execution_count": null,
      "outputs": []
    },
    {
      "cell_type": "markdown",
      "source": [
        "Dot plot of ACE2 expression across clusters"
      ],
      "metadata": {
        "id": "3cLrL2_-mbf9"
      }
    },
    {
      "cell_type": "code",
      "source": [
        "sc.pl.dotplot(adata, 'ACE2', groupby='leiden')"
      ],
      "metadata": {
        "id": "q3-ZbY1WkrS3"
      },
      "execution_count": null,
      "outputs": []
    },
    {
      "cell_type": "markdown",
      "source": [
        "Dot plot of FABP6 expression across clusters"
      ],
      "metadata": {
        "id": "JTrmkFPnmmVL"
      }
    },
    {
      "cell_type": "code",
      "source": [
        "sc.pl.dotplot(adata, 'FABP6', groupby='leiden')"
      ],
      "metadata": {
        "id": "EAVuARgpmmyj"
      },
      "execution_count": null,
      "outputs": []
    },
    {
      "cell_type": "markdown",
      "source": [
        "Dot plot of ANPEP expression across clusters"
      ],
      "metadata": {
        "id": "gaK-BhbhmzAY"
      }
    },
    {
      "cell_type": "code",
      "source": [
        "sc.pl.dotplot(adata, 'ANPEP', groupby='leiden')"
      ],
      "metadata": {
        "id": "Tw4uaCb5m4U-"
      },
      "execution_count": null,
      "outputs": []
    },
    {
      "cell_type": "markdown",
      "source": [
        "Stacked violin plot of expression of 3 marker genes across clusters"
      ],
      "metadata": {
        "id": "8DH9iTmdnEGd"
      }
    },
    {
      "cell_type": "code",
      "source": [
        "sc.pl.stacked_violin(adata, ['ACE2', 'FABP6', 'ANPEP'], groupby='leiden', rotation=90)"
      ],
      "metadata": {
        "id": "ZsJmlYf1iuhX"
      },
      "execution_count": null,
      "outputs": []
    },
    {
      "cell_type": "markdown",
      "source": [
        "Stacked violin plot of ACE2 expression across clusters"
      ],
      "metadata": {
        "id": "G55-PaH6nOFD"
      }
    },
    {
      "cell_type": "code",
      "source": [
        "sc.pl.stacked_violin(adata, 'ACE2', groupby='leiden', rotation=90)"
      ],
      "metadata": {
        "id": "7Suf0wymnUHf"
      },
      "execution_count": null,
      "outputs": []
    },
    {
      "cell_type": "markdown",
      "source": [
        "Stacked violin plot of FABP6 expression across clusters"
      ],
      "metadata": {
        "id": "X_DZBi2pnjWN"
      }
    },
    {
      "cell_type": "code",
      "source": [
        "sc.pl.stacked_violin(adata, 'FABP6', groupby='leiden', rotation=90)"
      ],
      "metadata": {
        "id": "rhdqAtDRnqdU"
      },
      "execution_count": null,
      "outputs": []
    },
    {
      "cell_type": "markdown",
      "source": [
        "Stacked violin plot of ANPEP expression across clusters"
      ],
      "metadata": {
        "id": "uM-Gjj0On3O5"
      }
    },
    {
      "cell_type": "code",
      "source": [
        "sc.pl.stacked_violin(adata, 'ANPEP', groupby='leiden', rotation=90)"
      ],
      "metadata": {
        "id": "yAFxkGacnw0e"
      },
      "execution_count": null,
      "outputs": []
    },
    {
      "cell_type": "markdown",
      "source": [
        "Color expression of marker genes on UMAP"
      ],
      "metadata": {
        "id": "Jb7Pt-zLo_Ub"
      }
    },
    {
      "cell_type": "code",
      "source": [
        "sc.pl.umap(adata, color=['ACE2', 'FABP6', 'ANPEP'])"
      ],
      "metadata": {
        "id": "2FfSq5iCokV8"
      },
      "execution_count": null,
      "outputs": []
    }
  ],
  "metadata": {
    "colab": {
      "collapsed_sections": [],
      "name": "Copy of Python class finale project - Yu (for Jeff).ipynb",
      "provenance": []
    },
    "kernelspec": {
      "display_name": "Python 3",
      "name": "python3"
    },
    "language_info": {
      "name": "python"
    }
  },
  "nbformat": 4,
  "nbformat_minor": 0
}