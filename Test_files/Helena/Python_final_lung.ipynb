{
  "nbformat": 4,
  "nbformat_minor": 0,
  "metadata": {
    "colab": {
      "name": "Copy of HJ_Python_final_lung.ipynb",
      "provenance": [],
      "collapsed_sections": []
    },
    "kernelspec": {
      "name": "python3",
      "display_name": "Python 3"
    },
    "language_info": {
      "name": "python"
    }
  },
  "cells": [
    {
      "cell_type": "code",
      "source": [
        "!pip install scanpy\n",
        "!pip install scikit-misc --force \n",
        "# restart runtime"
      ],
      "metadata": {
        "id": "lNzB74he839H"
      },
      "execution_count": null,
      "outputs": []
    },
    {
      "cell_type": "code",
      "source": [
        "import numpy as np \n",
        "import pandas as pd \n",
        "import scanpy as sc \n",
        "import scanpy.tools as tl "
      ],
      "metadata": {
        "id": "UY5_MumUunE4"
      },
      "execution_count": null,
      "outputs": []
    },
    {
      "cell_type": "code",
      "source": [
        "sc.settings.verbosity = 3 \n",
        "sc.settings.set_figure_params(dpi=80) "
      ],
      "metadata": {
        "id": "mMdGucIdrLSn"
      },
      "execution_count": null,
      "outputs": []
    },
    {
      "cell_type": "code",
      "source": [
        "from google.colab import drive\n",
        "drive.mount('/content/drive')"
      ],
      "metadata": {
        "id": "P02VtS4l7yzg"
      },
      "execution_count": null,
      "outputs": []
    },
    {
      "cell_type": "markdown",
      "source": [
        "## Part 1. Basic quality control and filtering"
      ],
      "metadata": {
        "id": "GNCVX3PVNlAS"
      }
    },
    {
      "cell_type": "code",
      "source": [
        "# Access GSE directory and select only the lung donor, raw count matrix files\n",
        "\n",
        "import os\n",
        "lung_path = \"drive/MyDrive/GSE122960_RAW/\"\n",
        "lung_fl = os.listdir(lung_path)\n",
        "lung_donor_fl = [name for name in lung_fl if \"Donor\" in name and \"raw\" in name]\n",
        "lung_donor_fl"
      ],
      "metadata": {
        "id": "dDbuWnwa8n6f"
      },
      "execution_count": null,
      "outputs": []
    },
    {
      "cell_type": "code",
      "source": [
        "# read lung data (h5 file)\n",
        "\n",
        "adata_lung_1 = sc.read_10x_h5(lung_path+lung_donor_fl[0])\n",
        "adata = adata_lung_1"
      ],
      "metadata": {
        "id": "hyolTPZHCwFf"
      },
      "execution_count": null,
      "outputs": []
    },
    {
      "cell_type": "code",
      "source": [
        "adata"
      ],
      "metadata": {
        "id": "ATfYvrYICyUR"
      },
      "execution_count": null,
      "outputs": []
    },
    {
      "cell_type": "code",
      "source": [
        "# check if there are any duplicated gene names\n",
        "\n",
        "dup_genes = adata.var_names[adata.var_names.duplicated()].tolist()\n",
        "print(dup_genes)\n",
        "print(len(dup_genes)) # there are 34 duplicated genes\n",
        "\n",
        "# subset dataframe with all duplicated gene names -> there are multiple gene_ids for same genes\n",
        "adata.var[adata.var.index.duplicated(keep=False)] "
      ],
      "metadata": {
        "id": "FEaBkCdtB_eT"
      },
      "execution_count": null,
      "outputs": []
    },
    {
      "cell_type": "code",
      "source": [
        "# make duplicated genes unique by appending a number string to each duplicate ('-1',' -2', etc.)\n",
        "\n",
        "adata.var_names_make_unique()"
      ],
      "metadata": {
        "id": "Vn7zygr8CELZ"
      },
      "execution_count": null,
      "outputs": []
    },
    {
      "cell_type": "code",
      "source": [
        "# this code is just to check how the duplicated name was renamed\n",
        "\n",
        "dup_renamed_ls = []\n",
        "for gene in adata.var_names.tolist():\n",
        "  for dup in dup_genes:\n",
        "    if dup in gene:\n",
        "      dup_renamed_ls.append(gene) \n",
        "print(dup_renamed_ls)"
      ],
      "metadata": {
        "id": "qXLe56a6Drc_"
      },
      "execution_count": null,
      "outputs": []
    },
    {
      "cell_type": "code",
      "source": [
        "# show genes that yield the highest fraction of counts in each single cell, across all cells\n",
        "\n",
        "sc.pl.highest_expr_genes(adata, n_top=20)"
      ],
      "metadata": {
        "id": "NjaXA0gKvIMc"
      },
      "execution_count": null,
      "outputs": []
    },
    {
      "cell_type": "code",
      "source": [
        "# remove cells with less than 200 genes expressed\n",
        "sc.pp.filter_cells(adata, min_genes=200)\n",
        "\n",
        "# remove genes that are expressed in less than 3 cells\n",
        "sc.pp.filter_genes(adata, min_cells=3)"
      ],
      "metadata": {
        "id": "bC43_ZpRQW1t"
      },
      "execution_count": null,
      "outputs": []
    },
    {
      "cell_type": "code",
      "source": [
        "# to filter mito genes, annotate them (start with \"MT-\") first \n",
        "adata.var['mt'] = adata.var_names.str.startswith('MT-')  # annotate the group of mitochondrial genes as 'mt'\n",
        "\n",
        "# for each cell compute fraction of counts in mito genes vs. all genes\n",
        "sc.pp.calculate_qc_metrics(adata, qc_vars=['mt'], percent_top=None, log1p=False, inplace=True)"
      ],
      "metadata": {
        "id": "XgGlcG_rQhkq"
      },
      "execution_count": null,
      "outputs": []
    },
    {
      "cell_type": "code",
      "source": [
        "sc.pl.violin(adata, ['n_genes_by_counts', 'total_counts', 'pct_counts_mt'], jitter=0.4, multi_panel=True) # plots fields of .obs (cells)"
      ],
      "metadata": {
        "id": "lSPvtVyOQmkB"
      },
      "execution_count": null,
      "outputs": []
    },
    {
      "cell_type": "code",
      "source": [
        "sc.pl.scatter(adata, x='total_counts', y='pct_counts_mt')\n",
        "sc.pl.scatter(adata, x='total_counts', y='n_genes_by_counts') "
      ],
      "metadata": {
        "id": "nKsEe0gPTYkN"
      },
      "execution_count": null,
      "outputs": []
    },
    {
      "cell_type": "code",
      "source": [
        "# filter out cells with more than 3000 genes or less than 10% mito gene umi counts (cut-offs are set based on the violin and scatter plots)\n",
        "\n",
        "adata = adata[adata.obs.n_genes_by_counts < 3000, :] \n",
        "adata = adata[adata.obs.pct_counts_mt < 10, :]\n",
        "adata"
      ],
      "metadata": {
        "id": "eZuqnDmETfti"
      },
      "execution_count": null,
      "outputs": []
    },
    {
      "cell_type": "markdown",
      "source": [
        "## Part 2. Normalization and dimensionality reduction"
      ],
      "metadata": {
        "id": "wTfjSafzM-ET"
      }
    },
    {
      "cell_type": "code",
      "source": [
        "# normalize the counts and logarithmize\n",
        "\n",
        "sc.pp.normalize_total(adata, target_sum=1e4) # flavor='seurat_v3' expects raw count data\n",
        "sc.pp.log1p(adata) # flavor='seurat_v3' expects raw count data"
      ],
      "metadata": {
        "id": "tqa3w89PTpv7"
      },
      "execution_count": null,
      "outputs": []
    },
    {
      "cell_type": "code",
      "source": [
        "# https://www.kallistobus.tools/tutorials/kb_building_atlas/python/kb_analysis_0_python/\n",
        "# according to the tutorial above, flavor=\"cell_ranger\" is consistent with Seurat\n",
        "\n",
        "sc.pp.highly_variable_genes(adata, min_mean=0.0125, max_mean=3, min_disp=0.5, \n",
        "                            n_top_genes = 2000, flavor = \"cell_ranger\", n_bins = 20)\n",
        "# sc.pp.highly_variable_genes(adata, min_mean=0.0125, max_mean=3, min_disp=0.5)\n"
      ],
      "metadata": {
        "id": "6q3edyPxTucT"
      },
      "execution_count": null,
      "outputs": []
    },
    {
      "cell_type": "code",
      "source": [
        "# plot dispersions of genes vs. mean expressions of genes\n",
        "\n",
        "sc.pl.highly_variable_genes(adata)"
      ],
      "metadata": {
        "id": "6hYcMwXDTyXS"
      },
      "execution_count": null,
      "outputs": []
    },
    {
      "cell_type": "code",
      "source": [
        "# check how many genes were determined to be highly variable\n",
        "# .value_counts() function counts a series containing counts of unique values\n",
        "\n",
        "adata.var.highly_variable.value_counts()"
      ],
      "metadata": {
        "id": "LB0TcweoOVCO"
      },
      "execution_count": null,
      "outputs": []
    },
    {
      "cell_type": "code",
      "source": [
        "adata_raw = adata\n",
        "adata_raw.write(\"drive/MyDrive/lung_results/lung_results_file_raw\")\n",
        "adata_raw"
      ],
      "metadata": {
        "id": "AusO2rY21nIR"
      },
      "execution_count": null,
      "outputs": []
    },
    {
      "cell_type": "code",
      "source": [
        "# filter the genes, only keeping the highly variable ones\n",
        "\n",
        "adata = adata[:, adata.var.highly_variable]\n",
        "adata"
      ],
      "metadata": {
        "id": "JcGyaqR1T9R_"
      },
      "execution_count": null,
      "outputs": []
    },
    {
      "cell_type": "code",
      "source": [
        "# regress out effects of total counts per cell and % of mito genes expressed\n",
        "\n",
        "sc.pp.regress_out(adata, ['total_counts', 'pct_counts_mt'])"
      ],
      "metadata": {
        "id": "tZs-e6ymUA9B"
      },
      "execution_count": null,
      "outputs": []
    },
    {
      "cell_type": "code",
      "source": [
        "# scale each gene to unit variance. Clip values exceeding sd 10\n",
        "\n",
        "sc.pp.scale(adata, max_value=10)"
      ],
      "metadata": {
        "id": "ryoydGIYUD0k"
      },
      "execution_count": null,
      "outputs": []
    },
    {
      "cell_type": "code",
      "source": [
        "# reduce the dimensionality of the data by running principal component analysis (PCA)\n",
        "# PCA identifes the main axes of variation\n",
        "\n",
        "sc.tl.pca(adata, svd_solver='arpack')"
      ],
      "metadata": {
        "id": "Z2UZXHRB-aHM"
      },
      "execution_count": null,
      "outputs": []
    },
    {
      "cell_type": "code",
      "source": [
        "# plot the first two principal components\n",
        "\n",
        "sc.pl.pca(adata, color='SFTPB')"
      ],
      "metadata": {
        "id": "EQ41kiu6-Ig4"
      },
      "execution_count": null,
      "outputs": []
    },
    {
      "cell_type": "code",
      "source": [
        "# inspect the contribution of single PCs to the total variance in the data\n",
        "# this gives an idea of how many PCs to consider when computing the neighborhood relations of cells (e.g. used in the clustering function sc.tl.louvain())\n",
        "\n",
        "sc.pl.pca_variance_ratio(adata, log=True)"
      ],
      "metadata": {
        "id": "qKC3dSVu_e6j"
      },
      "execution_count": null,
      "outputs": []
    },
    {
      "cell_type": "code",
      "source": [
        "# save the result\n",
        "\n",
        "adata.write(\"drive/MyDrive/lung_results/lung_results_file_cellranger\")"
      ],
      "metadata": {
        "id": "bdT-CGidND7X"
      },
      "execution_count": null,
      "outputs": []
    },
    {
      "cell_type": "code",
      "source": [
        "# compute the neighborhood graph\n",
        "\n",
        "sc.pp.neighbors(adata, n_neighbors=20, n_pcs=30) "
      ],
      "metadata": {
        "id": "E3YrCJ32VCzv"
      },
      "execution_count": null,
      "outputs": []
    },
    {
      "cell_type": "code",
      "source": [
        "# ImportError: Please install the leiden algorithm: `conda install -c conda-forge leidenalg` or `pip3 install leidenalg`\n",
        "!pip install leidenalg numpy python-igraph\n",
        "\n",
        "# As with Seurat and many other frameworks, we recommend the Leiden graph-clustering method (community detection based on optimizing modularity)\n",
        "sc.tl.leiden(adata) \n"
      ],
      "metadata": {
        "id": "GYSKsPbETS7Q"
      },
      "execution_count": null,
      "outputs": []
    },
    {
      "cell_type": "code",
      "source": [
        "# embed the neighborhood graph in two dimensions using UMAP\n",
        "\n",
        "tl.paga(adata) \n",
        "sc.pl.paga(adata, plot=False)  # remove `plot=False` if you want to see the coarse-grained graph\n",
        "tl.umap(adata, init_pos='paga')"
      ],
      "metadata": {
        "id": "apF-sj--XPXH"
      },
      "execution_count": null,
      "outputs": []
    },
    {
      "cell_type": "code",
      "source": [
        "# plot umap\n",
        "\n",
        "sc.pl.umap(adata, color=[\"leiden\", 'SFTPB', 'SFTPC', 'ACE2'], wspace=0.4) # wspace is for spacing between multiple umaps. Lung dataset have a lot of clusters, legend overlaps with the next umap if you don't adjust this.\n",
        "# 'SFTPB', 'SFTPC' genes are canonical markers of AT2 cells\n",
        "# cluster 1, 2, 3 seem to be the AT2 cells"
      ],
      "metadata": {
        "id": "bnaB-KIXT91d"
      },
      "execution_count": null,
      "outputs": []
    },
    {
      "cell_type": "code",
      "source": [
        "sc.pl.violin(adata, ['SFTPB', 'SFTPC', 'ACE2'], groupby='leiden')"
      ],
      "metadata": {
        "id": "4xsyntwqaZns"
      },
      "execution_count": null,
      "outputs": []
    },
    {
      "cell_type": "code",
      "source": [
        "# calculate average ACE2 expressions across AT2 cells\n",
        "# adata.var.loc[\"ACE2\":]\n",
        "# \"ACE2\" in adata.var.index\n",
        "# adata.raw.var.loc[\"ACE2\"]\n",
        "\n",
        "sc.get.obs_df(\n",
        "    adata,\n",
        "    keys = ['leiden', 'ACE2']\n",
        ")\n",
        "\n",
        "\n",
        "# adata.obs[''].cat.categories\n",
        "# res = pd.DataFrame(columns=adata.var_names, index=adata.obs['leiden'].cat.categories)                                                                                                 \n"
      ],
      "metadata": {
        "id": "WnE5Pq7zWM3x"
      },
      "execution_count": null,
      "outputs": []
    },
    {
      "cell_type": "code",
      "source": [
        ""
      ],
      "metadata": {
        "id": "OcYxIXHCR_Ac"
      },
      "execution_count": null,
      "outputs": []
    },
    {
      "cell_type": "code",
      "source": [
        ""
      ],
      "metadata": {
        "id": "3ullQymPR98q"
      },
      "execution_count": null,
      "outputs": []
    },
    {
      "cell_type": "code",
      "source": [
        ""
      ],
      "metadata": {
        "id": "zHyMfnJ_J0eq"
      },
      "execution_count": null,
      "outputs": []
    }
  ]
}