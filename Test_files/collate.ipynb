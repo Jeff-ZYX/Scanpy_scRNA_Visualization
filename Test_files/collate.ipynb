{
 "cells": [
  {
   "cell_type": "code",
   "execution_count": null,
   "metadata": {},
   "outputs": [],
   "source": [
    "#YES\n",
    "import numpy as np\n",
    "import pandas as pd\n",
    "import scanpy as sc\n",
    "import scanpy.tools as tl \n",
    "import os"
   ]
  },
  {
   "cell_type": "code",
   "execution_count": null,
   "metadata": {},
   "outputs": [],
   "source": [
    "#YES\n",
    "sc.settings.verbosity = 3\n",
    "sc.settings.set_figure_params(dpi=80, facecolor='white')"
   ]
  },
  {
   "cell_type": "code",
   "execution_count": null,
   "metadata": {},
   "outputs": [],
   "source": [
    "#Loading of LUNG data\n",
    "name = \"H\"\n",
    "lung_file = \".\\data\\Lung\\GSE122960_RAW\\GSM3489182_Donor_01_filtered_gene_bc_matrices_h5.h5\"\n",
    "#read files into adata format\n",
    "adata = sc.read_10x_h5(lung_file)\n",
    "adata"
   ]
  },
  {
   "cell_type": "code",
   "execution_count": null,
   "metadata": {},
   "outputs": [],
   "source": [
    "#Loading of BLADDER data\n",
    "#ALL TSV FILES AND MTX FILES MUST BE IN THE SAME FOLDER FOR read_10x_mtx to read properly\n",
    "name = \"D\"\n",
    "bladder_file = \".\\data\\Bladder\\collated_data\"\n",
    "adata = sc.read_10x_mtx(bladder_file,var_names='gene_symbols')\n",
    "adata"
   ]
  },
  {
   "cell_type": "code",
   "execution_count": null,
   "metadata": {},
   "outputs": [],
   "source": [
    "#Loading of Ileum data\n",
    "#JESUS CHRIST, MTX ON READS AND NEEDS FILES WITH THE NAMES\n",
    "# barcodes.tsv,genes.tsv,and matrix.mtx EXCLUSIVELY\n",
    "name = \"Y\"\n",
    "ileum_file = \".\\data\\Ileum\\collated_data\"\n",
    "adata = sc.read_10x_mtx(ileum_file,var_names='gene_symbols')"
   ]
  },
  {
   "cell_type": "code",
   "execution_count": null,
   "metadata": {},
   "outputs": [],
   "source": [
    "#Divya's +Yu  code doesnt have this\n",
    "#Check for duplicated names\n",
    "dup_genes = adata.var_names[adata.var_names.duplicated()].tolist()\n",
    "print(dup_genes)\n",
    "print(len(dup_genes))\n",
    "\n",
    "\n",
    "# if name == \"H\":\n",
    "#     adata.var[adata.var.index.duplicated(keep=False)] \n"
   ]
  },
  {
   "cell_type": "code",
   "execution_count": null,
   "metadata": {},
   "outputs": [],
   "source": [
    "#YES\n",
    "#make duplicated genes\n",
    "adata.var_names_make_unique()\n",
    "adata"
   ]
  },
  {
   "cell_type": "code",
   "execution_count": null,
   "metadata": {},
   "outputs": [],
   "source": [
    "#YES\n",
    "#show genes that yield highest fraction of counts in each single cell, across all cells\n",
    "#Divya's code sets n_top=500\n",
    "\n",
    "sc.pl.highest_expr_genes(adata, n_top=20)"
   ]
  },
  {
   "cell_type": "code",
   "execution_count": null,
   "metadata": {},
   "outputs": [],
   "source": [
    "#Divya's code does not filter, \n",
    "#i think this part of the code filters ACE2 out of divyas data\n",
    "if name in [\"H\",\"Y\"]:\n",
    "    # remove cells with less than 200 genes expressed\n",
    "    sc.pp.filter_cells(adata, min_genes=200)\n",
    "\n",
    "    # remove genes that are expressed in less than 3 cells\n",
    "    sc.pp.filter_genes(adata, min_cells=3)"
   ]
  },
  {
   "cell_type": "code",
   "execution_count": null,
   "metadata": {},
   "outputs": [],
   "source": [
    "#YES\n",
    "# to filter mito genes, annotate them (start with \"MT-\") first \n",
    "adata.var['mt'] = adata.var_names.str.startswith('MT-')  # annotate the group of mitochondrial genes as 'mt'\n",
    "\n",
    "# for each cell compute fraction of counts in mito genes vs. all genes\n",
    "sc.pp.calculate_qc_metrics(adata, qc_vars=['mt'], percent_top=None, log1p=False, inplace=True)"
   ]
  },
  {
   "cell_type": "code",
   "execution_count": null,
   "metadata": {},
   "outputs": [],
   "source": [
    "#YES\n",
    "sc.pl.violin(adata, ['n_genes_by_counts', 'total_counts', 'pct_counts_mt'], jitter=0.4, multi_panel=True) # plots fields of .obs (cells)"
   ]
  },
  {
   "cell_type": "code",
   "execution_count": null,
   "metadata": {},
   "outputs": [],
   "source": [
    "#YES\n",
    "sc.pl.scatter(adata, x='total_counts', y='pct_counts_mt')\n",
    " "
   ]
  },
  {
   "cell_type": "code",
   "execution_count": null,
   "metadata": {},
   "outputs": [],
   "source": [
    "#YES\n",
    "sc.pl.scatter(adata, x='total_counts', y='n_genes_by_counts')"
   ]
  },
  {
   "cell_type": "code",
   "execution_count": null,
   "metadata": {},
   "outputs": [],
   "source": [
    "# filter out cells with more than 3000 genes or less than 10% mito gene umi counts (cut-offs are set based on the violin and scatter plots)\n",
    "#Divyas code uses 2500 and 5 as the cutoff\n",
    "\n",
    "if name ==\"H\":\n",
    "    #Helena\n",
    "    adata = adata[adata.obs.n_genes_by_counts < 3000, :] \n",
    "    adata = adata[adata.obs.pct_counts_mt < 10, :]\n",
    "elif name in [\"D\",\"Y\"]:\n",
    "#Divya\n",
    "    adata = adata[adata.obs.n_genes_by_counts < 2500, :] \n",
    "    adata = adata[adata.obs.pct_counts_mt < 5, :]"
   ]
  },
  {
   "cell_type": "code",
   "execution_count": null,
   "metadata": {},
   "outputs": [],
   "source": [
    "#YES\n",
    "sc.pp.normalize_total(adata, target_sum=1e4) # flavor='seurat_v3' expects raw count data\n",
    "sc.pp.log1p(adata) # flavor='seurat_v3' expects raw count data"
   ]
  },
  {
   "cell_type": "code",
   "execution_count": null,
   "metadata": {},
   "outputs": [],
   "source": [
    "#YES\n",
    "\n",
    "# # according to the tutorial above, flavor=\"cell_ranger\" is consistent with Seurat\n",
    "# #Divya's code doesnt have the last 3 variables\n",
    "# #didn't include last 3 variables in main\n",
    "# if name == \"H\":\n",
    "#     # #Helena\n",
    "#     sc.pp.highly_variable_genes(adata, min_mean=0.0125, max_mean=3, min_disp=0.5, \n",
    "#                                 n_top_genes = 2000, flavor = \"cell_ranger\", n_bins = 20)\n",
    "\n",
    "# #Divya's data fails using Helena's code\n",
    "# elif name in [\"D\",\"Y\"]:\n",
    "# #Divya\n",
    "#     sc.pp.highly_variable_genes(adata, min_mean=0.0125, max_mean=3, min_disp=0.5)\n",
    "\n",
    "sc.pp.highly_variable_genes(adata, min_mean=0.0125, max_mean=3, min_disp=0.5)"
   ]
  },
  {
   "cell_type": "code",
   "execution_count": null,
   "metadata": {},
   "outputs": [],
   "source": [
    "#YES\n",
    "sc.pl.highly_variable_genes(adata)"
   ]
  },
  {
   "cell_type": "code",
   "execution_count": null,
   "metadata": {},
   "outputs": [],
   "source": [
    "#YES\n",
    "\n",
    "# check how many genes were determined to be highly variable\n",
    "# .value_counts() function counts a series containing counts of unique values\n",
    "\n",
    "adata.var.highly_variable.value_counts()"
   ]
  },
  {
   "cell_type": "code",
   "execution_count": null,
   "metadata": {},
   "outputs": [],
   "source": [
    "# #??? I don't get why this is necessary\n",
    "# adata_raw = adata\n",
    "# # adata_raw.write(\"drive/MyDrive/lung_results/lung_results_file_raw\")\n",
    "# adata_raw.write(\".\\data\\lung_results_file_raw\")\n",
    "# adata_raw"
   ]
  },
  {
   "cell_type": "code",
   "execution_count": null,
   "metadata": {},
   "outputs": [],
   "source": [
    "# filter the genes, only keeping the highly variable ones\n",
    "\n",
    "adata = adata[:, adata.var.highly_variable]\n",
    "# adata"
   ]
  },
  {
   "cell_type": "code",
   "execution_count": null,
   "metadata": {},
   "outputs": [],
   "source": [
    "#YES\n",
    "\n",
    "# regress out effects of total counts per cell and % of mito genes expressed\n",
    "\n",
    "sc.pp.regress_out(adata, ['total_counts', 'pct_counts_mt'])"
   ]
  },
  {
   "cell_type": "code",
   "execution_count": null,
   "metadata": {},
   "outputs": [],
   "source": [
    "#YES\n",
    "\n",
    "# scale each gene to unit variance. Clip values exceeding sd 10\n",
    "\n",
    "sc.pp.scale(adata, max_value=10)"
   ]
  },
  {
   "cell_type": "code",
   "execution_count": null,
   "metadata": {},
   "outputs": [],
   "source": [
    "#YES\n",
    "\n",
    "# reduce the dimensionality of the data by running principal component analysis (PCA)\n",
    "# PCA identifes the main axes of variation\n",
    "\n",
    "sc.tl.pca(adata, svd_solver='arpack')"
   ]
  },
  {
   "cell_type": "code",
   "execution_count": null,
   "metadata": {},
   "outputs": [],
   "source": [
    "#YES\n",
    "\n",
    "# plot the first two principal components\n",
    "\n",
    "if name == \"H\":\n",
    "    #Helena's code\n",
    "    sc.pl.pca(adata, color='SFTPB')\n",
    "elif name ==\"D\":\n",
    "    #Divya's code\n",
    "    #CURRENTLY CAN'T FIND ACE2\n",
    "    sc.pl.pca(adata, color='ACE2')\n",
    "elif name ==\"Y\":\n",
    "    #Yu's code\n",
    "    #CURRENTLY CAN'T FIND ACE2\n",
    "    sc.pl.pca(adata, color='CST3')"
   ]
  },
  {
   "cell_type": "code",
   "execution_count": null,
   "metadata": {},
   "outputs": [],
   "source": [
    "#YES\n",
    "\n",
    "# inspect the contribution of single PCs to the total variance in the data\n",
    "# this gives an idea of how many PCs to consider when computing the neighborhood relations of cells (e.g. used in the clustering function sc.tl.louvain())\n",
    "\n",
    "sc.pl.pca_variance_ratio(adata, log=True)"
   ]
  },
  {
   "cell_type": "code",
   "execution_count": null,
   "metadata": {},
   "outputs": [],
   "source": [
    "# # save the result\n",
    "# ##?? is this necessary?\n",
    "\n",
    "# adata.write(\".\\data\\\\resuklts_file_cellranger\")"
   ]
  },
  {
   "cell_type": "code",
   "execution_count": null,
   "metadata": {},
   "outputs": [],
   "source": [
    "#YES\n",
    "\n",
    "# compute the neighborhood graph\n",
    "# Divya's data has neighbours as 10 and pcs as 40\n",
    "if name == \"H\":\n",
    "    sc.pp.neighbors(adata, n_neighbors=20, n_pcs=30) \n",
    "\n",
    "elif name ==\"D\":\n",
    "    sc.pp.neighbors(adata, n_neighbors=10, n_pcs=40)\n",
    "elif name == \"Y\":\n",
    "    sc.pp.neighbors(adata)"
   ]
  },
  {
   "cell_type": "code",
   "execution_count": null,
   "metadata": {},
   "outputs": [],
   "source": [
    "#YES\n",
    "\n",
    "sc.tl.umap(adata)\n",
    "sc.pl.umap(adata, color='CST3')"
   ]
  },
  {
   "cell_type": "code",
   "execution_count": null,
   "metadata": {},
   "outputs": [],
   "source": [
    "#YES\n",
    "\n",
    "# As with Seurat and many other frameworks, we recommend the Leiden graph-clustering method (community detection based on optimizing modularity)\n",
    "sc.tl.leiden(adata) "
   ]
  },
  {
   "cell_type": "code",
   "execution_count": null,
   "metadata": {},
   "outputs": [],
   "source": [
    "#YES\n",
    "\n",
    "# embed the neighborhood graph in two dimensions using UMAP\n",
    "\n",
    "tl.paga(adata) \n",
    "sc.pl.paga(adata, plot=False)  # remove `plot=False` if you want to see the coarse-grained graph\n",
    "tl.umap(adata, init_pos='paga')"
   ]
  },
  {
   "cell_type": "code",
   "execution_count": null,
   "metadata": {},
   "outputs": [],
   "source": [
    "#YES\n",
    "\n",
    "\n",
    "# plot umap\n",
    "if name ==\"H\":\n",
    "#Helena\n",
    "    sc.pl.umap(adata, color=[\"leiden\", 'SFTPB', 'SFTPC', 'ACE2'], wspace=0.4) # wspace is for spacing between multiple umaps. Lung dataset have a lot of clusters, legend overlaps with the next umap if you don't adjust this.\n",
    "    sc.pl.violin(adata, ['SFTPB', 'SFTPC', 'ACE2'], groupby='leiden')\n",
    "# 'SFTPB', 'SFTPC' genes are canonical markers of AT2 cells\n",
    "# cluster 1, 2, 3 seem to be the AT2 cells\n",
    "elif name ==\"D\":\n",
    "#Divya\n",
    "    sc.pl.umap(adata, color=['SPINK1','leiden','CLDN4','ACE2'])\n",
    "#Divya\n",
    "    # sc.pl.umap(adata, color=['SPINK1','CLDN4','ACE2'])\n",
    "elif name ==\"Y\":\n",
    "    sc.pl.umap(adata, color='CST3')\n",
    "    sc.pl.umap(adata, color=['ACE2', 'FABP6', 'ANPEP'])"
   ]
  },
  {
   "cell_type": "code",
   "execution_count": null,
   "metadata": {},
   "outputs": [],
   "source": []
  },
  {
   "cell_type": "code",
   "execution_count": null,
   "metadata": {},
   "outputs": [],
   "source": [
    "#Helena\n",
    "sc.pl.violin(adata, ['SFTPB', 'SFTPC', 'ACE2'], groupby='leiden')"
   ]
  },
  {
   "cell_type": "code",
   "execution_count": null,
   "metadata": {},
   "outputs": [],
   "source": []
  }
 ],
 "metadata": {
  "kernelspec": {
   "display_name": "Python 3.8.0 ('scan': venv)",
   "language": "python",
   "name": "python3"
  },
  "language_info": {
   "codemirror_mode": {
    "name": "ipython",
    "version": 3
   },
   "file_extension": ".py",
   "mimetype": "text/x-python",
   "name": "python",
   "nbconvert_exporter": "python",
   "pygments_lexer": "ipython3",
   "version": "3.8.0"
  },
  "orig_nbformat": 4,
  "vscode": {
   "interpreter": {
    "hash": "f7468b6969dd139b9bea76206cd6d2c132a2bef8d09a55ff75dacff243a86631"
   }
  }
 },
 "nbformat": 4,
 "nbformat_minor": 2
}
