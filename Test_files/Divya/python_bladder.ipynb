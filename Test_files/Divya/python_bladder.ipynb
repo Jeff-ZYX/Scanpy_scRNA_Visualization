{
  "cells": [
    {
      "cell_type": "code",
      "execution_count": null,
      "metadata": {
        "id": "JeFuN1Omwgqs"
      },
      "outputs": [],
      "source": [
        "!pip install scanpy\n",
        "!pip install scikit-misc --force \n",
        "!pip install matplotlib==3.5.3\n",
        "!pip install leidenalg numpy python-igraph"
      ]
    },
    {
      "cell_type": "code",
      "execution_count": null,
      "metadata": {
        "id": "3btDHoNfwnSu"
      },
      "outputs": [],
      "source": [
        "import numpy as np\n",
        "import pandas as pd\n",
        "import scanpy as sc\n",
        "import scanpy.tools as tl\n",
        "import os\n",
        "\n",
        "bladder_path = \"/content/drive/MyDrive/zip_python/\"\n",
        "bladder_fl = os.listdir(bladder_path)\n",
        "\n",
        "sc.settings.verbosity = 3             \n",
        "sc.logging.print_header()\n",
        "sc.settings.set_figure_params(dpi=80, facecolor='white')"
      ]
    },
    {
      "cell_type": "code",
      "execution_count": null,
      "metadata": {
        "id": "lrWll2wnwp0j"
      },
      "outputs": [],
      "source": [
        "from google.colab import drive\n",
        "drive.mount('/content/drive')"
      ]
    },
    {
      "cell_type": "code",
      "execution_count": null,
      "metadata": {
        "id": "ZuyBSbdaxAcm"
      },
      "outputs": [],
      "source": [
        "adata_bladder = sc.read_10x_mtx(bladder_path,   ## the directory with the `.mtx` file\n",
        "    var_names='gene_symbols',                # use gene symbols for the variable names (variables-axis index)\n",
        "    cache=True)                              # write a cache file for faster subsequent reading\n",
        "    "
      ]
    },
    {
      "cell_type": "code",
      "execution_count": null,
      "metadata": {
        "id": "rtBdEECXfVVn"
      },
      "outputs": [],
      "source": [
        "adata_bladder.var_names_make_unique() "
      ]
    },
    {
      "cell_type": "code",
      "execution_count": null,
      "metadata": {
        "id": "vtwahGrGfhi3"
      },
      "outputs": [],
      "source": [
        "sc.pl.highest_expr_genes(adata_bladder, n_top=500, )   #Show those genes that yield the highest fraction of counts in each single cell, across all cells."
      ]
    },
    {
      "cell_type": "code",
      "execution_count": null,
      "metadata": {
        "colab": {
          "background_save": true
        },
        "id": "VBBJudL5GeLK"
      },
      "outputs": [],
      "source": [
        "#sc.pp.filter_cells(adata_bladder, min_genes=200)\n",
        "#sc.pp.filter_genes(adata_bladder, min_cells=3)"
      ]
    },
    {
      "cell_type": "code",
      "execution_count": null,
      "metadata": {
        "id": "4H5pLZvCGop9"
      },
      "outputs": [],
      "source": [
        "adata_bladder.var['mt'] = adata_bladder.var_names.str.startswith('MT-')  # annotate the group of mitochondrial genes as 'mt'\n",
        "sc.pp.calculate_qc_metrics(adata_bladder, qc_vars=['mt'], percent_top=None, log1p=False, inplace=True)"
      ]
    },
    {
      "cell_type": "code",
      "execution_count": null,
      "metadata": {
        "id": "76lbPf88Hcdy"
      },
      "outputs": [],
      "source": [
        "sc.pl.violin(adata_bladder, ['n_genes_by_counts', 'total_counts', 'pct_counts_mt'], jitter=0.4, multi_panel=True) # plots fields of .obs (cells)"
      ]
    },
    {
      "cell_type": "code",
      "execution_count": null,
      "metadata": {
        "id": "qMWegfO0Hs_7"
      },
      "outputs": [],
      "source": [
        "sc.pl.scatter(adata_bladder, x='total_counts', y='pct_counts_mt')\n",
        "sc.pl.scatter(adata_bladder, x='total_counts', y='n_genes_by_counts')"
      ]
    },
    {
      "cell_type": "code",
      "execution_count": null,
      "metadata": {
        "id": "Bx0U3ZkGHxrY"
      },
      "outputs": [],
      "source": [
        "adata_bladder = adata_bladder[adata_bladder.obs.n_genes_by_counts < 2500, :]\n",
        "adata_bladder = adata_bladder[adata_bladder.obs.pct_counts_mt < 5, :]"
      ]
    },
    {
      "cell_type": "code",
      "execution_count": null,
      "metadata": {
        "id": "h8nD_WaCIF-I"
      },
      "outputs": [],
      "source": [
        "sc.pp.normalize_total(adata_bladder, target_sum=1e4)  #Total-count normalize (library-size correct) the data matrix X to 10,000 reads per cell, so that counts become comparable among cells."
      ]
    },
    {
      "cell_type": "code",
      "execution_count": null,
      "metadata": {
        "id": "vSaSTNKlIMBS"
      },
      "outputs": [],
      "source": [
        "sc.pp.log1p(adata_bladder)  #Logarithmize the data"
      ]
    },
    {
      "cell_type": "code",
      "execution_count": null,
      "metadata": {
        "id": "jwPOEGUQgoYN"
      },
      "outputs": [],
      "source": [
        "sc.pp.highly_variable_genes(adata_bladder, min_mean=0.0125, max_mean=3, min_disp=0.5)"
      ]
    },
    {
      "cell_type": "code",
      "execution_count": null,
      "metadata": {
        "id": "vWVKW0fJIdL5"
      },
      "outputs": [],
      "source": [
        "sc.pl.highly_variable_genes(adata_bladder)"
      ]
    },
    {
      "cell_type": "code",
      "execution_count": null,
      "metadata": {
        "id": "bjWtCpb9Ih99"
      },
      "outputs": [],
      "source": [
        "adata_bladder.raw = adata_bladder"
      ]
    },
    {
      "cell_type": "code",
      "execution_count": null,
      "metadata": {
        "id": "qvGcBY1AIm_j"
      },
      "outputs": [],
      "source": [
        "adata_bladder= adata_bladder[:, adata_bladder.var.highly_variable]"
      ]
    },
    {
      "cell_type": "code",
      "execution_count": null,
      "metadata": {
        "id": "Nle4nLlUIssb"
      },
      "outputs": [],
      "source": [
        "sc.pp.regress_out(adata_bladder, ['total_counts', 'pct_counts_mt'])"
      ]
    },
    {
      "cell_type": "code",
      "execution_count": null,
      "metadata": {
        "id": "RNbAXeWJIw18"
      },
      "outputs": [],
      "source": [
        "sc.pp.scale(adata_bladder, max_value=10)"
      ]
    },
    {
      "cell_type": "code",
      "execution_count": null,
      "metadata": {
        "id": "6wTSbtEJI0bO"
      },
      "outputs": [],
      "source": [
        "sc.tl.pca(adata_bladder, svd_solver='arpack')\n",
        "sc.pl.pca(adata_bladder, color='ACE2')\n",
        "sc.pl.pca_variance_ratio(adata_bladder, log=True)"
      ]
    },
    {
      "cell_type": "code",
      "execution_count": null,
      "metadata": {
        "id": "_rvSp6GXJVke"
      },
      "outputs": [],
      "source": [
        "# adata_bladder.write(\"drive/MyDrive/bladder_results/bladder_results_file\")"
      ]
    },
    {
      "cell_type": "code",
      "execution_count": null,
      "metadata": {
        "id": "wnl1t1ZcOadV"
      },
      "outputs": [],
      "source": [
        "sc.pp.neighbors(adata_bladder, n_neighbors=10, n_pcs=40)\n",
        "sc.tl.leiden(adata_bladder) "
      ]
    },
    {
      "cell_type": "code",
      "execution_count": null,
      "metadata": {
        "id": "ejcRxpM5KG7y"
      },
      "outputs": [],
      "source": [
        "sc.tl.paga(adata_bladder)\n",
        "sc.pl.paga(adata_bladder, plot=False)  # remove `plot=False` if you want to see the coarse-grained graph\n",
        "sc.tl.umap(adata_bladder, init_pos='paga')\n",
        "\n",
        "sc.pl.umap(adata_bladder, color=['leiden', 'CLDN4','ACE2'])   \n",
        "sc.pl.umap(adata_bladder, color = [\"SPINK1\", 'CLDN4', 'ACE2'])"
      ]
    },
    {
      "cell_type": "code",
      "source": [
        "sc.pl.violin(adata_bladder, ['SPINK1', 'CLDN4', 'ACE2'], groupby='leiden')"
      ],
      "metadata": {
        "id": "hRsmGXXJ-eyA"
      },
      "execution_count": null,
      "outputs": []
    }
  ],
  "metadata": {
    "colab": {
      "collapsed_sections": [],
      "name": "Copy of python_bladder.ipynb",
      "provenance": []
    },
    "kernelspec": {
      "display_name": "Python 3",
      "name": "python3"
    },
    "language_info": {
      "name": "python"
    }
  },
  "nbformat": 4,
  "nbformat_minor": 0
}